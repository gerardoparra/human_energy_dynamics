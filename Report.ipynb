{
 "cells": [
  {
   "cell_type": "markdown",
   "metadata": {},
   "source": [
    "# Computational model of "
   ]
  },
  {
   "cell_type": "markdown",
   "metadata": {},
   "source": [
    "## 1. Introduction\n",
    "Reports of mental disorders that interfere with focus and task execution, such as major deppressive disorder and attention deficit hyperactivity disorder, have been increasing for several years **(cite)**. Moreover, sociological trends such as growing proportions of young people who identify as introverted and spread of concepts like \"bed rotting\" point towards a population increasingly struggling with motivation and energy. While the underlying causes are undoubtedly numerous and difficult to disentangle, a mathematical model of the phenomenologically experience of motivation and energy could provide a framework for assessing important factors. I created a **n-dimensional** system to study the dynamics of motivation and energy in response to personal decisions and environmental influences, such as food, sleep and circadian rhythms, mental and physical activity\n",
    "\n",
    "The physiological and psychological processes underlying these two variables are complex and high dimensional: it is not possible to capture all relevant parts in a simple, interpretable model and particualrly within the scope of this project. Moreover, the goal of this project is primarily the application of the mathematical repertoire we developed in class, not scientific accuracy. I therefore emphasize that while I conducted some superficial reserach to inform the development of this model, the model is partly formed by intuition and is not rigorously scientifically based."
   ]
  },
  {
   "cell_type": "markdown",
   "metadata": {},
   "source": [
    "## 2. Methods\n",
    "First I define some basic terminology and distinguish certain similar concepts.\n",
    "\n",
    "I then state my assumptions and conventions.\n",
    "\n",
    "### 1. Circadian rhythm\n",
    "I begin by modeling the human circadian rhythm. The circadian rhythm is an automatic internal clock regulating alertness which is highly sensitive to light input. The circadian rhythm has an intrinsic period slightly greater than 24 hours long (24.18 hours), but resets its phase in response to light input. Given the relation of this internal clock to the sensation of alertness and drowsiness, we begin by modeling this system.\n",
    "\\begin{align}\n",
    "C(t) &= -\\text{cos}\\left(\\frac{2\\pi}{T}t\\right) \\\\\n",
    "\\frac{dT}{dt} &= -\\text{tanh}\\left(T-\\mu_T\\right)  - \\alpha_Lf_L\\left(L,\\phi\\right) \\\\ %\\text{exp}\\left(-\\frac{\\left(T-\\mu_T\\right)^2}{2\\sigma_T^2}\\right)\n",
    "f_L(L,\\phi) &= \\text{PRC}\\left(\\phi\\right)L \\\\\n",
    "\\text{PRC}\\left(\\phi\\right) &= \\text{exp}\\left(-\\frac{\\left(\\phi-\\frac{\\pi}{2}\\right)^2}{\\pi^2/8}\\right)-\\text{exp}\\left(-\\frac{\\left(\\phi-2\\pi\\right)^2}{\\pi^2/8}\\right)\n",
    "\\end{align}\n",
    "\n",
    "where $C$ is a variable representing one's circadian rhythm, $T$ is the variable whose dynamics we model representing the period of the circadian rhythm, and $\\phi$ is the phase of the sinusoidal function, namely $\\phi\\left(t,T\\right) = 2\\pi \\lfloor{\\frac{t}{T}}\\rfloor$. PRC represents the phase response curve, which defines the impact of an input (light in this case) on the phase of the circadian rhythm depending on the phase of the rhythm at the time it is received. This function was designed to resemble PRCs as documented in the circadian rhythm literature (**CITE**) and was constructed by summing two exponentials, a positive one centered at $\\frac{\\pi}{2}$ to create the phase advancing effect of light received during one's morning, and a negative one centered at $2\\pi$ to represent the phase delay caused by light during one's night. The parameters and intial conditions were manually chosen to create realistic dynamics, namely $\\mu_T=24.5, \\tau_T=24, \\alpha_L=2$, and $T_0=24.5$.\n",
    "\n",
    "### 2. Sleep\n",
    "We next model sleep and its interactions with the circadian rhythm. Sleep \n",
    "\\begin{align}\n",
    "\\frac{dS}{dt} = \\frac{1-S}{\\tau_S} - \\frac{R}{\\tau_R}\n",
    "\\end{align}"
   ]
  },
  {
   "cell_type": "markdown",
   "metadata": {},
   "source": [
    "## 3. Results"
   ]
  },
  {
   "cell_type": "markdown",
   "metadata": {},
   "source": [
    "## 4. Discussion\n",
    "### A. Limitations\n",
    "### B. Future directions:\n",
    "- Test with real data\n",
    "- Add other dimensions: food, sport, etc"
   ]
  }
 ],
 "metadata": {
  "language_info": {
   "name": "python"
  }
 },
 "nbformat": 4,
 "nbformat_minor": 2
}
